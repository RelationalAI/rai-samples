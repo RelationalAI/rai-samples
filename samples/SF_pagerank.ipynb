{
 "cells": [
  {
   "cell_type": "markdown",
   "id": "f9b7773f-f2ad-4bbf-9ab9-3518100ad232",
   "metadata": {},
   "source": [
    "# Snowflake Pagerank"
   ]
  },
  {
   "cell_type": "code",
   "execution_count": null,
   "id": "cab9988e-65e8-494e-a14b-5ddb4513a8e1",
   "metadata": {},
   "outputs": [],
   "source": [
    "from typing import Tuple\n",
    "import rich\n",
    "\n",
    "import relationalai as rai\n",
    "from relationalai.std import aggregates\n",
    "from relationalai.std.graphs import Graph\n",
    "from relationalai.clients.snowflake import Snowflake, PrimaryKey\n",
    "\n",
    "model = rai.Model(\"SFPagerank\")"
   ]
  },
  {
   "cell_type": "markdown",
   "id": "120129be-b62d-42de-bb99-46ee5923df55",
   "metadata": {},
   "source": [
    "## Reference Snowflake data"
   ]
  },
  {
   "cell_type": "code",
   "execution_count": null,
   "id": "e50f9622-3caa-4b90-bbdf-dc131ba1649a",
   "metadata": {},
   "outputs": [],
   "source": [
    "sf = Snowflake(model)\n",
    "Account = sf.sandbox.public.accounts\n",
    "Account.describe(\n",
    "    account_id=PrimaryKey,\n",
    ")\n",
    "\n",
    "Transaction = sf.sandbox.public.transactions\n",
    "Transaction.describe(\n",
    "    id=PrimaryKey,\n",
    "    from_account=(Account, \"from_\"),\n",
    "    to_account=(Account, \"to\")\n",
    ")"
   ]
  },
  {
   "cell_type": "code",
   "execution_count": null,
   "id": "620f9e4b-ec91-46a0-aa11-ffd5b4a572e3",
   "metadata": {},
   "outputs": [],
   "source": [
    "with model.query() as select:\n",
    "    account = Account()\n",
    "    types = select(account.account_type)\n",
    "\n",
    "types"
   ]
  },
  {
   "cell_type": "markdown",
   "id": "04d8524b-914d-4300-a577-530111f81d53",
   "metadata": {},
   "source": [
    "## Label accounts"
   ]
  },
  {
   "cell_type": "code",
   "execution_count": null,
   "id": "9af719fd-ab99-4db6-8c5c-ee2e9101112d",
   "metadata": {},
   "outputs": [],
   "source": [
    "Merchant = model.Type(\"Merchant\")\n",
    "Person = model.Type(\"Person\")\n",
    "\n",
    "with model.rule():\n",
    "    a = Account()\n",
    "    with a.account_type == \"Merchant\":\n",
    "        a.set(Merchant)\n",
    "    with a.account_type == \"User\":\n",
    "        a.set(Person)"
   ]
  },
  {
   "cell_type": "markdown",
   "id": "70f28726-e8c8-4ea7-9dfa-0773181aa3d3",
   "metadata": {},
   "source": [
    "## Create a graph"
   ]
  },
  {
   "cell_type": "code",
   "execution_count": null,
   "id": "50b6e017-49e4-4334-87cc-d3171667da41",
   "metadata": {},
   "outputs": [],
   "source": [
    "graph = Graph(model)\n",
    "Node, Edge = graph.Node, graph.Edge\n",
    "\n",
    "# add some nodes\n",
    "Node.extend(Account, name=Account.name)\n",
    "Node.extend(Person, kind=\"person\")\n",
    "Node.extend(Merchant, kind=\"merchant\", label=Merchant.name)\n",
    "\n",
    "# add edges for transactions\n",
    "with model.rule():\n",
    "    t = Transaction()\n",
    "    Edge.add(t.from_, t.to, amount=t.amount)"
   ]
  },
  {
   "cell_type": "markdown",
   "id": "a4694972-4208-45f1-b7ab-999632c98509",
   "metadata": {},
   "source": [
    "## Compute pagerank"
   ]
  },
  {
   "cell_type": "code",
   "execution_count": null,
   "id": "6394e745-e1ee-4557-a95d-29112989ff83",
   "metadata": {},
   "outputs": [],
   "source": [
    "with model.rule():\n",
    "    m = Merchant()\n",
    "    rank = graph.compute.pagerank(m)\n",
    "    Node(m).set(rank=rank)\n",
    "    m.set(rank=rank)"
   ]
  },
  {
   "cell_type": "markdown",
   "id": "73859cc7-da3d-4593-b7be-fd93bed890e9",
   "metadata": {},
   "source": [
    "## Visualize"
   ]
  },
  {
   "cell_type": "code",
   "execution_count": null,
   "id": "63b8c871-41c2-4a42-aa59-8b6fd9f40e1c",
   "metadata": {
    "scrolled": true
   },
   "outputs": [],
   "source": [
    "graph.visualize(\n",
    "    three=True,\n",
    "    node_label_size_factor=1.2,\n",
    "    use_links_force=True,\n",
    "    links_force_distance=140,\n",
    "    node_hover_neighborhood=True,\n",
    "    style={\n",
    "        \"node\": {\n",
    "            \"size\": lambda n: (n.get(\"rank\", 0.01) * 100) ** 2.2 + 10,\n",
    "            \"color\": lambda n: \"green\" if n[\"kind\"] == \"merchant\" else \"#bbb\",\n",
    "            \"hover\": lambda n: f'{n[\"name\"]} ({n.get(\"rank\", 0):,.3f})' if n.get(\"rank\") else n[\"name\"]\n",
    "        },\n",
    "        \"edge\": {\n",
    "            \"opacity\": 0.3,\n",
    "            \"color\": \"#ccc\",\n",
    "            \"size\": lambda t: t[\"amount\"] / 50\n",
    "        }\n",
    "    }\n",
    ")"
   ]
  },
  {
   "cell_type": "markdown",
   "id": "36ae137f-49d7-4c62-b759-cb969c51d36e",
   "metadata": {},
   "source": [
    "## Create a stored procedure"
   ]
  },
  {
   "cell_type": "code",
   "execution_count": null,
   "id": "2949c7a4-6c2e-4a03-a4b7-ea3bf3a4e3fa",
   "metadata": {},
   "outputs": [],
   "source": [
    "@model.export(\"sandbox.public\")\n",
    "def merchant_rank(minimum: float) -> Tuple[str, float, int]:\n",
    "    m = Merchant()\n",
    "    m.rank >= minimum\n",
    "    t = Transaction(to=m)\n",
    "    total = aggregates.sum(t, t.amount, per=[m])\n",
    "    return m.name, m.rank, total"
   ]
  },
  {
   "cell_type": "code",
   "execution_count": null,
   "id": "759d066f-7874-42b5-8236-1b542a4a0872",
   "metadata": {},
   "outputs": [],
   "source": [
    "for row in model.resources._exec(\"call sandbox.public.merchant_rank(0.04);\"):\n",
    "    rich.print(row)"
   ]
  },
  {
   "cell_type": "code",
   "execution_count": null,
   "id": "17b70289-7aab-47fd-b5be-1fd150926056",
   "metadata": {},
   "outputs": [],
   "source": []
  }
 ],
 "metadata": {
  "kernelspec": {
   "display_name": "Python 3 (ipykernel)",
   "language": "python",
   "name": "python3"
  },
  "language_info": {
   "codemirror_mode": {
    "name": "ipython",
    "version": 3
   },
   "file_extension": ".py",
   "mimetype": "text/x-python",
   "name": "python",
   "nbconvert_exporter": "python",
   "pygments_lexer": "ipython3",
   "version": "3.10.13"
  }
 },
 "nbformat": 4,
 "nbformat_minor": 5
}
